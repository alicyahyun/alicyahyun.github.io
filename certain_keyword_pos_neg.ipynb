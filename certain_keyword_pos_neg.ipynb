{
  "nbformat": 4,
  "nbformat_minor": 0,
  "metadata": {
    "colab": {
      "name": "certain keyword pos/neg.ipynb",
      "provenance": [],
      "collapsed_sections": [],
      "authorship_tag": "ABX9TyNhMnDBSPXRSmApuU1EA2cN",
      "include_colab_link": true
    },
    "kernelspec": {
      "display_name": "Python 3",
      "name": "python3"
    },
    "language_info": {
      "name": "python"
    }
  },
  "cells": [
    {
      "cell_type": "markdown",
      "metadata": {
        "id": "view-in-github",
        "colab_type": "text"
      },
      "source": [
        "<a href=\"https://colab.research.google.com/github/alicyahyun/alicyahyun.github.io/blob/main/certain_keyword_pos_neg.ipynb\" target=\"_parent\"><img src=\"https://colab.research.google.com/assets/colab-badge.svg\" alt=\"Open In Colab\"/></a>"
      ]
    },
    {
      "cell_type": "markdown",
      "metadata": {
        "id": "XUNW-bi8bShn"
      },
      "source": [
        "트레이닝/테트 세트 분리하기.\n",
        "\n",
        "A라는 고등학교, B라는 고등학교에서 시험을 치룬다고 했을때,\n",
        "- A 라는 고등학교는 시험을 보기전에 200문제를 연습문제를 주고 여기서 20문제를 냈고\n",
        "- B 라는 고등학교는 시험을 보기전에 180문제를 연습문제를 주고 여기서 20문제를 냈다.\n",
        "\n",
        "B라는 학교처럼 90-80% 학습용 데이터, 10-20% 검즘용 데이터\n"
      ]
    },
    {
      "cell_type": "code",
      "metadata": {
        "colab": {
          "base_uri": "https://localhost:8080/",
          "height": 669
        },
        "id": "6N5QkLSZeDBg",
        "outputId": "918f72ef-e2d1-4c6f-fb5f-f9bfa9829482"
      },
      "source": [
        "import pandas as pd\n",
        "import numpy as np\n",
        "\n",
        "\n",
        "df = pd.read_csv(\"odewratings.csv\")\n",
        "df[:20]"
      ],
      "execution_count": null,
      "outputs": [
        {
          "output_type": "execute_result",
          "data": {
            "text/html": [
              "<div>\n",
              "<style scoped>\n",
              "    .dataframe tbody tr th:only-of-type {\n",
              "        vertical-align: middle;\n",
              "    }\n",
              "\n",
              "    .dataframe tbody tr th {\n",
              "        vertical-align: top;\n",
              "    }\n",
              "\n",
              "    .dataframe thead th {\n",
              "        text-align: right;\n",
              "    }\n",
              "</style>\n",
              "<table border=\"1\" class=\"dataframe\">\n",
              "  <thead>\n",
              "    <tr style=\"text-align: right;\">\n",
              "      <th></th>\n",
              "      <th>score</th>\n",
              "      <th>text</th>\n",
              "    </tr>\n",
              "  </thead>\n",
              "  <tbody>\n",
              "    <tr>\n",
              "      <th>0</th>\n",
              "      <td>1</td>\n",
              "      <td>영화내내 가족에게 잘해야겠다 생각이 들었다.우리 아버지는 날위해 모든것을바치신사람이...</td>\n",
              "    </tr>\n",
              "    <tr>\n",
              "      <th>1</th>\n",
              "      <td>1</td>\n",
              "      <td>이분들이 있었기에 지금의 내가있고 대한민국이 있는거지. 존경스럽다</td>\n",
              "    </tr>\n",
              "    <tr>\n",
              "      <th>2</th>\n",
              "      <td>1</td>\n",
              "      <td>광부, 간호원 여러분! 나라가 부족하고 내가 부족해 여러분이 여기 있습니다 가족과 ...</td>\n",
              "    </tr>\n",
              "    <tr>\n",
              "      <th>3</th>\n",
              "      <td>1</td>\n",
              "      <td>추운날 한파를 뚫고 시사회로 보고왔으나 돈을 주어도 아깝지 않은 소중한 시간을 선물...</td>\n",
              "    </tr>\n",
              "    <tr>\n",
              "      <th>4</th>\n",
              "      <td>1</td>\n",
              "      <td>관람객20대초반 젊은이로 우리가 겪지못했던 우리한아버지들의삶을 보여주는 영화..그들...</td>\n",
              "    </tr>\n",
              "    <tr>\n",
              "      <th>5</th>\n",
              "      <td>1</td>\n",
              "      <td>관람객아 눈물범벅. 고생하신 아버지 생각나네요 ㅠㅠ</td>\n",
              "    </tr>\n",
              "    <tr>\n",
              "      <th>6</th>\n",
              "      <td>1</td>\n",
              "      <td>관람객조조로 보고 왔습니다. 시작하고 계속 눈물 닦다가 웃다가 했습니다. 근래에 본...</td>\n",
              "    </tr>\n",
              "    <tr>\n",
              "      <th>7</th>\n",
              "      <td>1</td>\n",
              "      <td>내일을 조국과 민족을 위하여.</td>\n",
              "    </tr>\n",
              "    <tr>\n",
              "      <th>8</th>\n",
              "      <td>1</td>\n",
              "      <td>시사회때 봤는데 단연코 수작임. 2014년 대표영화로 손꼽을만함.근데 방금개봉했는데...</td>\n",
              "    </tr>\n",
              "    <tr>\n",
              "      <th>9</th>\n",
              "      <td>1</td>\n",
              "      <td>관람객황정민이캐릭터잘살렷고웃기면서 재밋엇어요</td>\n",
              "    </tr>\n",
              "    <tr>\n",
              "      <th>10</th>\n",
              "      <td>1</td>\n",
              "      <td>감정 개입  하지말고.. 영화보면서 아버지 생각에 먹먹합니다 ..</td>\n",
              "    </tr>\n",
              "    <tr>\n",
              "      <th>11</th>\n",
              "      <td>1</td>\n",
              "      <td>관람객진짜완전대박입니다ㅠ 가족들이랑 또보구싶어요!</td>\n",
              "    </tr>\n",
              "    <tr>\n",
              "      <th>12</th>\n",
              "      <td>1</td>\n",
              "      <td>내  아버지가  그랬던 것  처럼 ...</td>\n",
              "    </tr>\n",
              "    <tr>\n",
              "      <th>13</th>\n",
              "      <td>1</td>\n",
              "      <td>관람객울고 웃고 감동이 넘치는 영화이 시대가 그냥 만들어진게 아니라는 영화누군가에게...</td>\n",
              "    </tr>\n",
              "    <tr>\n",
              "      <th>14</th>\n",
              "      <td>1</td>\n",
              "      <td>정말 우리는 그동안 불평불만만 많았지 감사를 모르고 살았습니다.  50년 전 가난하...</td>\n",
              "    </tr>\n",
              "    <tr>\n",
              "      <th>15</th>\n",
              "      <td>1</td>\n",
              "      <td>관람객전율과 여운이 아직도!! 대단하다 정말</td>\n",
              "    </tr>\n",
              "    <tr>\n",
              "      <th>16</th>\n",
              "      <td>1</td>\n",
              "      <td>별점테러하는 자칭 깨시민들아! 산업화의 주역은 박정희 대통령이 아니라 '국민들'이라...</td>\n",
              "    </tr>\n",
              "    <tr>\n",
              "      <th>17</th>\n",
              "      <td>1</td>\n",
              "      <td>가족을 먹여살리려는 가장의 역할 그때는 애도 많이 낳았을텐데도 굶기지 않고  자식 ...</td>\n",
              "    </tr>\n",
              "    <tr>\n",
              "      <th>18</th>\n",
              "      <td>1</td>\n",
              "      <td>관람객재밋네요 재밋어요 볼만함</td>\n",
              "    </tr>\n",
              "    <tr>\n",
              "      <th>19</th>\n",
              "      <td>1</td>\n",
              "      <td>좌파들 꼭 하는 얘기가 박정희의 지도력보단 국민의 노력덕분이라면서 왜 지금의 노인들...</td>\n",
              "    </tr>\n",
              "  </tbody>\n",
              "</table>\n",
              "</div>"
            ],
            "text/plain": [
              "    score                                               text\n",
              "0       1  영화내내 가족에게 잘해야겠다 생각이 들었다.우리 아버지는 날위해 모든것을바치신사람이...\n",
              "1       1               이분들이 있었기에 지금의 내가있고 대한민국이 있는거지. 존경스럽다\n",
              "2       1  광부, 간호원 여러분! 나라가 부족하고 내가 부족해 여러분이 여기 있습니다 가족과 ...\n",
              "3       1  추운날 한파를 뚫고 시사회로 보고왔으나 돈을 주어도 아깝지 않은 소중한 시간을 선물...\n",
              "4       1  관람객20대초반 젊은이로 우리가 겪지못했던 우리한아버지들의삶을 보여주는 영화..그들...\n",
              "5       1                       관람객아 눈물범벅. 고생하신 아버지 생각나네요 ㅠㅠ\n",
              "6       1  관람객조조로 보고 왔습니다. 시작하고 계속 눈물 닦다가 웃다가 했습니다. 근래에 본...\n",
              "7       1                                   내일을 조국과 민족을 위하여.\n",
              "8       1  시사회때 봤는데 단연코 수작임. 2014년 대표영화로 손꼽을만함.근데 방금개봉했는데...\n",
              "9       1                           관람객황정민이캐릭터잘살렷고웃기면서 재밋엇어요\n",
              "10      1               감정 개입  하지말고.. 영화보면서 아버지 생각에 먹먹합니다 ..\n",
              "11      1                        관람객진짜완전대박입니다ㅠ 가족들이랑 또보구싶어요!\n",
              "12      1                             내  아버지가  그랬던 것  처럼 ...\n",
              "13      1  관람객울고 웃고 감동이 넘치는 영화이 시대가 그냥 만들어진게 아니라는 영화누군가에게...\n",
              "14      1  정말 우리는 그동안 불평불만만 많았지 감사를 모르고 살았습니다.  50년 전 가난하...\n",
              "15      1                           관람객전율과 여운이 아직도!! 대단하다 정말\n",
              "16      1  별점테러하는 자칭 깨시민들아! 산업화의 주역은 박정희 대통령이 아니라 '국민들'이라...\n",
              "17      1  가족을 먹여살리려는 가장의 역할 그때는 애도 많이 낳았을텐데도 굶기지 않고  자식 ...\n",
              "18      1                                   관람객재밋네요 재밋어요 볼만함\n",
              "19      1  좌파들 꼭 하는 얘기가 박정희의 지도력보단 국민의 노력덕분이라면서 왜 지금의 노인들..."
            ]
          },
          "metadata": {},
          "execution_count": 8
        }
      ]
    },
    {
      "cell_type": "code",
      "metadata": {
        "id": "8CoLF80pwnc9"
      },
      "source": [
        "!set -x \\\n",
        "&& pip install konlpy \\\n",
        "&& curl -s https://raw.githubusercontent.com/konlpy/konlpy/master/scripts/mecab.sh | bash -x"
      ],
      "execution_count": null,
      "outputs": []
    },
    {
      "cell_type": "code",
      "metadata": {
        "id": "z7bYJb07AMHH"
      },
      "source": [
        "text = df['text']\n",
        "score = df['score']"
      ],
      "execution_count": null,
      "outputs": []
    },
    {
      "cell_type": "code",
      "metadata": {
        "colab": {
          "base_uri": "https://localhost:8080/"
        },
        "id": "aTGueGw1DyHG",
        "outputId": "f471b879-8ec7-4ed9-fbc9-e31705b91dc8"
      },
      "source": [
        "print(len(df))"
      ],
      "execution_count": null,
      "outputs": [
        {
          "output_type": "stream",
          "text": [
            "38335\n"
          ],
          "name": "stdout"
        }
      ]
    },
    {
      "cell_type": "code",
      "metadata": {
        "colab": {
          "base_uri": "https://localhost:8080/"
        },
        "id": "N9C4qOeGAQXp",
        "outputId": "fd7698f3-263b-4485-d2c2-a95f816d5f1c"
      },
      "source": [
        "print(df.isnull().values.any())"
      ],
      "execution_count": null,
      "outputs": [
        {
          "output_type": "stream",
          "text": [
            "True\n"
          ],
          "name": "stdout"
        }
      ]
    },
    {
      "cell_type": "code",
      "metadata": {
        "colab": {
          "base_uri": "https://localhost:8080/"
        },
        "id": "8aSLGzU_AR6u",
        "outputId": "8e809951-8df1-4798-c2a4-421855b54e42"
      },
      "source": [
        "print(df.isnull().sum())"
      ],
      "execution_count": null,
      "outputs": [
        {
          "output_type": "stream",
          "text": [
            "score      0\n",
            "text     106\n",
            "dtype: int64\n"
          ],
          "name": "stdout"
        }
      ]
    },
    {
      "cell_type": "code",
      "metadata": {
        "id": "CPY8Yk6VDSg3",
        "colab": {
          "base_uri": "https://localhost:8080/",
          "height": 419
        },
        "outputId": "1af3c9bc-6b57-45ae-e801-dac4924679cc"
      },
      "source": [
        "df.loc[df.text.isnull()]"
      ],
      "execution_count": null,
      "outputs": [
        {
          "output_type": "execute_result",
          "data": {
            "text/html": [
              "<div>\n",
              "<style scoped>\n",
              "    .dataframe tbody tr th:only-of-type {\n",
              "        vertical-align: middle;\n",
              "    }\n",
              "\n",
              "    .dataframe tbody tr th {\n",
              "        vertical-align: top;\n",
              "    }\n",
              "\n",
              "    .dataframe thead th {\n",
              "        text-align: right;\n",
              "    }\n",
              "</style>\n",
              "<table border=\"1\" class=\"dataframe\">\n",
              "  <thead>\n",
              "    <tr style=\"text-align: right;\">\n",
              "      <th></th>\n",
              "      <th>score</th>\n",
              "      <th>text</th>\n",
              "    </tr>\n",
              "  </thead>\n",
              "  <tbody>\n",
              "    <tr>\n",
              "      <th>7017</th>\n",
              "      <td>1</td>\n",
              "      <td>NaN</td>\n",
              "    </tr>\n",
              "    <tr>\n",
              "      <th>7031</th>\n",
              "      <td>1</td>\n",
              "      <td>NaN</td>\n",
              "    </tr>\n",
              "    <tr>\n",
              "      <th>14155</th>\n",
              "      <td>1</td>\n",
              "      <td>NaN</td>\n",
              "    </tr>\n",
              "    <tr>\n",
              "      <th>14166</th>\n",
              "      <td>1</td>\n",
              "      <td>NaN</td>\n",
              "    </tr>\n",
              "    <tr>\n",
              "      <th>14167</th>\n",
              "      <td>1</td>\n",
              "      <td>NaN</td>\n",
              "    </tr>\n",
              "    <tr>\n",
              "      <th>...</th>\n",
              "      <td>...</td>\n",
              "      <td>...</td>\n",
              "    </tr>\n",
              "    <tr>\n",
              "      <th>24817</th>\n",
              "      <td>1</td>\n",
              "      <td>NaN</td>\n",
              "    </tr>\n",
              "    <tr>\n",
              "      <th>32607</th>\n",
              "      <td>1</td>\n",
              "      <td>NaN</td>\n",
              "    </tr>\n",
              "    <tr>\n",
              "      <th>32610</th>\n",
              "      <td>1</td>\n",
              "      <td>NaN</td>\n",
              "    </tr>\n",
              "    <tr>\n",
              "      <th>32611</th>\n",
              "      <td>1</td>\n",
              "      <td>NaN</td>\n",
              "    </tr>\n",
              "    <tr>\n",
              "      <th>32616</th>\n",
              "      <td>1</td>\n",
              "      <td>NaN</td>\n",
              "    </tr>\n",
              "  </tbody>\n",
              "</table>\n",
              "<p>106 rows × 2 columns</p>\n",
              "</div>"
            ],
            "text/plain": [
              "       score text\n",
              "7017       1  NaN\n",
              "7031       1  NaN\n",
              "14155      1  NaN\n",
              "14166      1  NaN\n",
              "14167      1  NaN\n",
              "...      ...  ...\n",
              "24817      1  NaN\n",
              "32607      1  NaN\n",
              "32610      1  NaN\n",
              "32611      1  NaN\n",
              "32616      1  NaN\n",
              "\n",
              "[106 rows x 2 columns]"
            ]
          },
          "metadata": {},
          "execution_count": 14
        }
      ]
    },
    {
      "cell_type": "code",
      "metadata": {
        "colab": {
          "base_uri": "https://localhost:8080/"
        },
        "id": "xSwrj1iVAUjN",
        "outputId": "e7049fd3-6086-4119-8a23-3646821db5ea"
      },
      "source": [
        "#null값의 샘플을 제거\n",
        "df = df.dropna(how = 'any')\n",
        "print(df.isnull().values.any()) #null값이 또 존재 하는지 확인"
      ],
      "execution_count": null,
      "outputs": [
        {
          "output_type": "stream",
          "text": [
            "False\n"
          ],
          "name": "stdout"
        }
      ]
    },
    {
      "cell_type": "code",
      "metadata": {
        "colab": {
          "base_uri": "https://localhost:8080/"
        },
        "id": "DAtl297LDwFA",
        "outputId": "ba8c412e-57e2-401a-d240-90f71aa393dc"
      },
      "source": [
        "print(len(df['text']))"
      ],
      "execution_count": null,
      "outputs": [
        {
          "output_type": "stream",
          "text": [
            "38229\n"
          ],
          "name": "stdout"
        }
      ]
    },
    {
      "cell_type": "code",
      "metadata": {
        "id": "sqvcgbEITIw9"
      },
      "source": [
        ""
      ],
      "execution_count": null,
      "outputs": []
    },
    {
      "cell_type": "code",
      "metadata": {
        "colab": {
          "base_uri": "https://localhost:8080/"
        },
        "id": "xXMbNLLP9fsd",
        "outputId": "7fe7818a-6402-4528-8b7e-2f0adbec375b"
      },
      "source": [
        "from konlpy.tag import Twitter\n",
        "\n",
        "twitter = Twitter()"
      ],
      "execution_count": null,
      "outputs": [
        {
          "output_type": "stream",
          "text": [
            "/usr/local/lib/python3.7/dist-packages/konlpy/tag/_okt.py:16: UserWarning: \"Twitter\" has changed to \"Okt\" since KoNLPy v0.4.5.\n",
            "  warn('\"Twitter\" has changed to \"Okt\" since KoNLPy v0.4.5.')\n"
          ],
          "name": "stderr"
        }
      ]
    },
    {
      "cell_type": "code",
      "metadata": {
        "id": "ToxUZwsYbwLO"
      },
      "source": [
        "from sklearn.model_selection import train_test_split\n",
        "\n",
        "train_x, test_x, train_y, test_y = train_test_split(df['text'], df['score'], test_size = 0.2, random_state=0)"
      ],
      "execution_count": null,
      "outputs": []
    },
    {
      "cell_type": "code",
      "metadata": {
        "colab": {
          "base_uri": "https://localhost:8080/"
        },
        "id": "7dyZhT2rcbd8",
        "outputId": "9950a9d7-1611-4741-8203-a2eeccb12fd1"
      },
      "source": [
        "len(train_x),len(train_y)"
      ],
      "execution_count": null,
      "outputs": [
        {
          "output_type": "execute_result",
          "data": {
            "text/plain": [
              "(30583, 30583)"
            ]
          },
          "metadata": {},
          "execution_count": 19
        }
      ]
    },
    {
      "cell_type": "code",
      "metadata": {
        "colab": {
          "base_uri": "https://localhost:8080/"
        },
        "id": "16hedU-FC9zV",
        "outputId": "86b5d495-66cf-4e48-e306-f49a2d336e48"
      },
      "source": [
        "len(test_x), len(test_y)"
      ],
      "execution_count": null,
      "outputs": [
        {
          "output_type": "execute_result",
          "data": {
            "text/plain": [
              "(7646, 7646)"
            ]
          },
          "metadata": {},
          "execution_count": 20
        }
      ]
    },
    {
      "cell_type": "code",
      "metadata": {
        "colab": {
          "base_uri": "https://localhost:8080/"
        },
        "id": "bmC3L-pC7s-I",
        "outputId": "2188d212-f516-4afc-9eb3-6e899803ab5e"
      },
      "source": [
        "from sklearn.feature_extraction.text import TfidfVectorizer\n",
        "\n",
        "tfv = TfidfVectorizer(tokenizer=twitter.morphs, ngram_range=(1,2), min_df = 3, max_df=0.9)\n",
        "tfv.fit(train_x)\n",
        "tfv_train_x = tfv.transform(train_x)\n",
        "tfv_train_x"
      ],
      "execution_count": null,
      "outputs": [
        {
          "output_type": "stream",
          "text": [
            "/usr/local/lib/python3.7/dist-packages/sklearn/feature_extraction/text.py:507: UserWarning: The parameter 'token_pattern' will not be used since 'tokenizer' is not None'\n",
            "  warnings.warn(\"The parameter 'token_pattern' will not be used\"\n"
          ],
          "name": "stderr"
        },
        {
          "output_type": "execute_result",
          "data": {
            "text/plain": [
              "<30583x32188 sparse matrix of type '<class 'numpy.float64'>'\n",
              "\twith 737966 stored elements in Compressed Sparse Row format>"
            ]
          },
          "metadata": {},
          "execution_count": 21
        }
      ]
    },
    {
      "cell_type": "code",
      "metadata": {
        "id": "tDwaasPuECTW"
      },
      "source": [
        "from sklearn.linear_model import LogisticRegression #이진 분류 알고리즘\n",
        "from sklearn.model_selection import GridSearchCV #하이퍼 파라미터 최적화\n",
        "\n",
        "clf = LogisticRegression(random_state = 0)\n",
        "params = {'C':[1,3,5,7,9]}\n",
        "grid_cv = GridSearchCV(clf, param_grid=params, cv=4, scoring ='accuracy', verbose = 1) #4번의 '모의고사'후 가장 좋은 방법을 찾는 트레이닝\n",
        "grid_cv.fit(tfv_train_x, train_y)\n"
      ],
      "execution_count": null,
      "outputs": []
    },
    {
      "cell_type": "code",
      "metadata": {
        "colab": {
          "base_uri": "https://localhost:8080/"
        },
        "id": "djJWEckcE6Tm",
        "outputId": "bc3e543f-8db6-4f43-d525-32dd4866b122"
      },
      "source": [
        "grid_cv.best_params_"
      ],
      "execution_count": null,
      "outputs": [
        {
          "output_type": "execute_result",
          "data": {
            "text/plain": [
              "{'C': 9}"
            ]
          },
          "metadata": {},
          "execution_count": 23
        }
      ]
    },
    {
      "cell_type": "code",
      "metadata": {
        "colab": {
          "base_uri": "https://localhost:8080/"
        },
        "id": "XuRQezXaE-NY",
        "outputId": "6f798582-336c-4982-9c07-b70c81b43538"
      },
      "source": [
        "#100점 만점에 89혹은 10번중 8-9번은 맞는다는뜻\n",
        "grid_cv.best_score_ "
      ],
      "execution_count": null,
      "outputs": [
        {
          "output_type": "execute_result",
          "data": {
            "text/plain": [
              "0.9576889141434576"
            ]
          },
          "metadata": {},
          "execution_count": 24
        }
      ]
    },
    {
      "cell_type": "code",
      "metadata": {
        "colab": {
          "base_uri": "https://localhost:8080/"
        },
        "id": "6azV_9FkFHhB",
        "outputId": "b48353e3-762a-481c-b797-a95398c3067d"
      },
      "source": [
        "#윗 트레이닝은 7048개에 분리된 트레이닝세트로 만들어진 트레이닝으로 89%의 정확도를 보여줌.\n",
        "#아래는 1762개로 분리된 테스트세트로 정확도를 알려줌.\n",
        "\n",
        "#테스트세트를 불러줌\n",
        "tfv_test_x = tfv.transform(test_x)\n",
        "grid_cv.best_estimator_.score(tfv_test_x, test_y) #거의 비슷한 정확도를 보여줌"
      ],
      "execution_count": null,
      "outputs": [
        {
          "output_type": "execute_result",
          "data": {
            "text/plain": [
              "0.9593251373267068"
            ]
          },
          "metadata": {},
          "execution_count": 25
        }
      ]
    },
    {
      "cell_type": "markdown",
      "metadata": {
        "id": "LAuyFdgalk55"
      },
      "source": [
        "**-----------------------------------------------------------------------------Extract keyword--------------------------------------------------------------------**"
      ]
    },
    {
      "cell_type": "code",
      "metadata": {
        "id": "KiuCfkeyowl2"
      },
      "source": [
        "#comment에서 아버지 단어 코맨트 scrapping 하기\n",
        "father = df[df['comment'].str.contains('아버지')]\n",
        "father"
      ],
      "execution_count": null,
      "outputs": []
    },
    {
      "cell_type": "code",
      "metadata": {
        "id": "5f3Vp6-5lbEo"
      },
      "source": [
        "father.to_csv('father ver2.csv')"
      ],
      "execution_count": null,
      "outputs": []
    },
    {
      "cell_type": "markdown",
      "metadata": {
        "id": "Z7bCYSbPYZUw"
      },
      "source": [
        "**-------------------------------------------------------** 감정 분석 데이터 리스트로 받고서 긍/부 갯수 받기**--------------------------------------------------------**\n",
        "\n"
      ]
    },
    {
      "cell_type": "code",
      "metadata": {
        "id": "XNDde3ysUrnY"
      },
      "source": [
        "import pandas as pd\n",
        "import numpy as np\n",
        "\n",
        "ds = pd.read_csv(\"father ver2.csv\")"
      ],
      "execution_count": null,
      "outputs": []
    },
    {
      "cell_type": "code",
      "metadata": {
        "colab": {
          "base_uri": "https://localhost:8080/",
          "height": 204
        },
        "id": "kEwuA1idWRbO",
        "outputId": "5a98234f-9752-40e0-ed90-94b42efc991c"
      },
      "source": [
        "ds.tail()"
      ],
      "execution_count": null,
      "outputs": [
        {
          "output_type": "execute_result",
          "data": {
            "text/html": [
              "<div>\n",
              "<style scoped>\n",
              "    .dataframe tbody tr th:only-of-type {\n",
              "        vertical-align: middle;\n",
              "    }\n",
              "\n",
              "    .dataframe tbody tr th {\n",
              "        vertical-align: top;\n",
              "    }\n",
              "\n",
              "    .dataframe thead th {\n",
              "        text-align: right;\n",
              "    }\n",
              "</style>\n",
              "<table border=\"1\" class=\"dataframe\">\n",
              "  <thead>\n",
              "    <tr style=\"text-align: right;\">\n",
              "      <th></th>\n",
              "      <th>Unnamed: 0</th>\n",
              "      <th>comment</th>\n",
              "    </tr>\n",
              "  </thead>\n",
              "  <tbody>\n",
              "    <tr>\n",
              "      <th>5044</th>\n",
              "      <td>40213</td>\n",
              "      <td>힘드셨던 우리 아버지 어머니들.그런데 왜 힘들었을까? 왜 힘들었는지에대한 얘긴 왜 ...</td>\n",
              "    </tr>\n",
              "    <tr>\n",
              "      <th>5045</th>\n",
              "      <td>40280</td>\n",
              "      <td>우리 모두의 '아버지'들이 살아온 이야기, 그 자체의 힘. 70대 황정민의 굽은 등...</td>\n",
              "    </tr>\n",
              "    <tr>\n",
              "      <th>5046</th>\n",
              "      <td>40282</td>\n",
              "      <td>진보, 보수 등 정치논리로 영화를 보지맙시다! 그냥 그 힘겨운 시대에 던져졌으나 끈...</td>\n",
              "    </tr>\n",
              "    <tr>\n",
              "      <th>5047</th>\n",
              "      <td>40283</td>\n",
              "      <td>솔직히 기자새끼들이 한괴뢰 출신이라 그렇지 재미있는 내용은맞음, 아버지시대의 교훈도...</td>\n",
              "    </tr>\n",
              "    <tr>\n",
              "      <th>5048</th>\n",
              "      <td>40287</td>\n",
              "      <td>좌우막론하고 우리아버지세대들이 대단했다는건 사실이다</td>\n",
              "    </tr>\n",
              "  </tbody>\n",
              "</table>\n",
              "</div>"
            ],
            "text/plain": [
              "      Unnamed: 0                                            comment\n",
              "5044       40213  힘드셨던 우리 아버지 어머니들.그런데 왜 힘들었을까? 왜 힘들었는지에대한 얘긴 왜 ...\n",
              "5045       40280  우리 모두의 '아버지'들이 살아온 이야기, 그 자체의 힘. 70대 황정민의 굽은 등...\n",
              "5046       40282  진보, 보수 등 정치논리로 영화를 보지맙시다! 그냥 그 힘겨운 시대에 던져졌으나 끈...\n",
              "5047       40283  솔직히 기자새끼들이 한괴뢰 출신이라 그렇지 재미있는 내용은맞음, 아버지시대의 교훈도...\n",
              "5048       40287                      좌우막론하고 우리아버지세대들이 대단했다는건 사실이다 "
            ]
          },
          "metadata": {},
          "execution_count": 27
        }
      ]
    },
    {
      "cell_type": "code",
      "metadata": {
        "colab": {
          "base_uri": "https://localhost:8080/"
        },
        "id": "75gzG1LjgzWH",
        "outputId": "eed1aeca-7a1a-485c-ba29-356fd87bc158"
      },
      "source": [
        "ds['comment'][1:75]"
      ],
      "execution_count": null,
      "outputs": [
        {
          "output_type": "execute_result",
          "data": {
            "text/plain": [
              "1     20대초반 젊은이로 우리가 겪지못했던 우리한아버지들의삶을 보여주는 영화..그들이 있...\n",
              "2                            아 눈물범벅. 고생하신 아버지 생각나네요 ㅠㅠ \n",
              "3     시사회때 봤는데 단연코 수작임. 2014년 대표영화로 손꼽을만함.근데 방금개봉했는데...\n",
              "4                 감정 개입  하지말고.. 영화보면서 아버지 생각에 먹먹합니다 .. \n",
              "5                               내  아버지가  그랬던 것  처럼 ... \n",
              "                            ...                        \n",
              "70    진짜 꿀잼....내 아버지는 위대하다. 난 나라님이나 하나님보다 내 아버지를 더 존...\n",
              "71    별10개로는 모자랍니다 할아버지삶이 살아있는역사네요얼마나 울었는지 눈이퉁퉁부었어요 ...\n",
              "72                  우리 아버지 세대의 고통이 있었기에 오늘의 풍요가 있는 것이죠 \n",
              "73    &#34;힘들다. 그래도 애들이 안 겪고 내가 겪어서 다행인 것 같다&#34;라는 ...\n",
              "74    노인네 분장은 삼류, 김윤진사투리는 엉터리로  문제있지만,  시나리오나 연기, CG...\n",
              "Name: comment, Length: 74, dtype: object"
            ]
          },
          "metadata": {},
          "execution_count": 41
        }
      ]
    },
    {
      "cell_type": "code",
      "metadata": {
        "colab": {
          "base_uri": "https://localhost:8080/",
          "height": 35
        },
        "id": "DJr_Vx1yVbnY",
        "outputId": "b306e6d3-f285-4527-c6d8-900a421ec293"
      },
      "source": [
        "ds['comment'][0]"
      ],
      "execution_count": null,
      "outputs": [
        {
          "output_type": "execute_result",
          "data": {
            "application/vnd.google.colaboratory.intrinsic+json": {
              "type": "string"
            },
            "text/plain": [
              "'영화내내 가족에게 잘해야겠다 생각이 들었다.우리 아버지는 날위해 모든것을바치신사람이다. 효도해야겠다. '"
            ]
          },
          "metadata": {},
          "execution_count": 28
        }
      ]
    },
    {
      "cell_type": "code",
      "metadata": {
        "id": "Rb68fzMOV3Ge"
      },
      "source": [
        "a = ds['comment'][0:500].tolist()\n",
        "a"
      ],
      "execution_count": null,
      "outputs": []
    },
    {
      "cell_type": "code",
      "metadata": {
        "id": "ssIjxtpsGDsV"
      },
      "source": [
        " #꼭 리스트로 전달 해야함 여기에 내가 원하는 파일을 리스트로 전달해서 보기가능.\n",
        "my_review = tfv.transform(a)\n",
        "grid = grid_cv.best_estimator_.predict(my_review)\n",
        "grid\n"
      ],
      "execution_count": null,
      "outputs": []
    },
    {
      "cell_type": "code",
      "metadata": {
        "colab": {
          "base_uri": "https://localhost:8080/"
        },
        "id": "7ZB1t-ZJdJI1",
        "outputId": "48b46bee-a51b-4b0a-92d6-089e6576bdef"
      },
      "source": [
        "#부정댓글을 찾기\n",
        "comment_0_rate = numpy.where(grid == 0)\n",
        "comment_0_rate"
      ],
      "execution_count": null,
      "outputs": [
        {
          "output_type": "execute_result",
          "data": {
            "text/plain": [
              "(array([ 76, 109, 247, 324]),)"
            ]
          },
          "metadata": {},
          "execution_count": 53
        }
      ]
    },
    {
      "cell_type": "code",
      "metadata": {
        "colab": {
          "base_uri": "https://localhost:8080/"
        },
        "id": "fDl3XpPtgRNM",
        "outputId": "890c2e99-a209-47d9-d0e3-59289adfa2ec"
      },
      "source": [
        "for i in comment_0_rate:\n",
        "  print(i)"
      ],
      "execution_count": null,
      "outputs": [
        {
          "output_type": "stream",
          "text": [
            "[ 76 109 247 324]\n"
          ],
          "name": "stdout"
        }
      ]
    }
  ]
}